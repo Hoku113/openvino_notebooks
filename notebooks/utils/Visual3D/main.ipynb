{
 "cells": [
  {
   "cell_type": "code",
   "execution_count": null,
   "id": "2eb4fb87-a2ca-45b3-aeba-1d1b9ad7b3f9",
   "metadata": {},
   "outputs": [],
   "source": [
    "import sys\n",
    "sys.path.append(\"../utils/opencv3D\")\n",
    "from cvEngine import Engine3D"
   ]
  },
  {
   "cell_type": "code",
   "execution_count": null,
   "id": "7a834aed-83a6-414b-96cb-cf900e0e56d8",
   "metadata": {},
   "outputs": [],
   "source": [
    "newEngine = Engine3D(height=1000, width=1000)"
   ]
  },
  {
   "cell_type": "code",
   "execution_count": null,
   "id": "9c1fb9f4-33e1-41c6-a8d8-59638f9ac752",
   "metadata": {},
   "outputs": [],
   "source": [
    "try:\n",
    "    # use this entry to run the library\n",
    "    newEngine.run()\n",
    "except KeyboardInterrupt:\n",
    "    print(\"Interrupted\")\n",
    "except RuntimeError as e:\n",
    "    print(e)\n",
    "finally:\n",
    "    pass"
   ]
  },
  {
   "cell_type": "code",
   "execution_count": null,
   "id": "fead3ebd-5c82-4ddf-a189-e7d9f92856d1",
   "metadata": {},
   "outputs": [],
   "source": []
  }
 ],
 "metadata": {
  "kernelspec": {
   "display_name": "openvino_env1",
   "language": "python",
   "name": "openvino_env1"
  },
  "language_info": {
   "codemirror_mode": {
    "name": "ipython",
    "version": 3
   },
   "file_extension": ".py",
   "mimetype": "text/x-python",
   "name": "python",
   "nbconvert_exporter": "python",
   "pygments_lexer": "ipython3",
   "version": "3.8.13"
  }
 },
 "nbformat": 4,
 "nbformat_minor": 5
}
